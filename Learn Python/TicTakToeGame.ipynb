{
 "cells": [
  {
   "cell_type": "code",
   "execution_count": 46,
   "metadata": {},
   "outputs": [],
   "source": [
    "def display(r1, r2, r3):\n",
    "    print(r1)\n",
    "    print(r2)\n",
    "    print(r3)"
   ]
  },
  {
   "cell_type": "code",
   "execution_count": 47,
   "metadata": {},
   "outputs": [],
   "source": [
    "r1 = ['', '', '']\n",
    "r2 = ['', '', '']\n",
    "r3 = ['', '', '']"
   ]
  },
  {
   "cell_type": "code",
   "execution_count": 48,
   "metadata": {},
   "outputs": [
    {
     "name": "stdout",
     "output_type": "stream",
     "text": [
      "['', '', '']\n",
      "['', '', '']\n",
      "['', '', '']\n"
     ]
    }
   ],
   "source": [
    "display(r1,r2,r3)"
   ]
  },
  {
   "cell_type": "code",
   "execution_count": 71,
   "metadata": {},
   "outputs": [],
   "source": [
    "def row_validation():\n",
    "    counter = 0\n",
    "    acceptable_row_values = [1, 2, 3]\n",
    "    while True:\n",
    "        row = input('Enter row number in 1, 2, 3: ')\n",
    "        if row.isdigit() == False:\n",
    "        # if len(row) > 1:\n",
    "            print('Sorry thats not a digit!')\n",
    "        else:\n",
    "            row = int(row)\n",
    "            counter += 1\n",
    "\n",
    "            # if row in range(1,4):\n",
    "            if row in acceptable_row_values:\n",
    "                break\n",
    "\n",
    "            # if row not in range(1, 4) and counter > 2:\n",
    "            if row not in acceptable_row_values and counter > 2:\n",
    "                print('Invalid Row Number: ' + str(row) + ' > 1, 2, 3')\n",
    "                print('GAME OVER!')\n",
    "                break\n",
    "    print('Your Input: ')\n",
    "    return row"
   ]
  },
  {
   "cell_type": "code",
   "execution_count": 72,
   "metadata": {},
   "outputs": [
    {
     "name": "stdout",
     "output_type": "stream",
     "text": [
      "Invalid Row Number: 4 > 1, 2, 3\n",
      "GAME OVER!\n",
      "Your Input: \n",
      "4\n"
     ]
    }
   ],
   "source": [
    "print(row_validation())"
   ]
  },
  {
   "cell_type": "code",
   "execution_count": 51,
   "metadata": {},
   "outputs": [],
   "source": [
    "def pos_validation():\n",
    "    counter = 0\n",
    "    while True:\n",
    "        position = input('Enter Position in 0, 1, 2: ')\n",
    "        if len(position) > 1:\n",
    "            print('Enter in Number Format Only!')\n",
    "        else:\n",
    "            position = int(position)\n",
    "            counter += 1\n",
    "\n",
    "            if position in range(0,3):\n",
    "                break\n",
    "\n",
    "            if position not in range(0, 3) and counter > 2:\n",
    "                print('Invalid Position: ' + str(position) + ' > 0, 1, 2')\n",
    "                break\n",
    "    \n",
    "    return position"
   ]
  },
  {
   "cell_type": "code",
   "execution_count": 52,
   "metadata": {},
   "outputs": [
    {
     "data": {
      "text/plain": [
       "2"
      ]
     },
     "execution_count": 52,
     "metadata": {},
     "output_type": "execute_result"
    }
   ],
   "source": [
    "pos_validation()"
   ]
  },
  {
   "cell_type": "code",
   "execution_count": 53,
   "metadata": {},
   "outputs": [],
   "source": [
    "def value_validation():\n",
    "    counter = 0\n",
    "    while True:\n",
    "        user_value = input('Enter Your Value -> X or O: ').upper()\n",
    "        counter += 1\n",
    "\n",
    "        if user_value == 'O' or user_value == 'X':\n",
    "            break\n",
    "\n",
    "        if 'X' != user_value != 'O' and counter > 2:\n",
    "            print('Invalid Value: ' + user_value + ' != X or O')\n",
    "            break\n",
    "    \n",
    "    return user_value"
   ]
  },
  {
   "cell_type": "code",
   "execution_count": null,
   "metadata": {},
   "outputs": [],
   "source": []
  },
  {
   "cell_type": "code",
   "execution_count": 54,
   "metadata": {},
   "outputs": [],
   "source": [
    "def game():\n",
    "    rr = row_validation()\n",
    "    if rr == 1:\n",
    "        rp = pos_validation()\n",
    "        rv = value_validation()\n",
    "        r1[rp] = rv\n",
    "    \n",
    "    elif rr == 2:\n",
    "        rp = pos_validation()\n",
    "        rv = value_validation()\n",
    "        r2[rp] = rv\n",
    "    \n",
    "    else:\n",
    "        rp = pos_validation()\n",
    "        rv = value_validation()\n",
    "        r3[rp] = rv\n",
    "\n",
    "    return display(r1, r2, r3)\n",
    "\n"
   ]
  },
  {
   "cell_type": "code",
   "execution_count": 56,
   "metadata": {},
   "outputs": [
    {
     "name": "stdout",
     "output_type": "stream",
     "text": [
      "['X', '', 'X']\n",
      "['', '', '']\n",
      "['', '', '']\n"
     ]
    }
   ],
   "source": [
    "game()"
   ]
  }
 ],
 "metadata": {
  "kernelspec": {
   "display_name": "Python 3",
   "language": "python",
   "name": "python3"
  },
  "language_info": {
   "codemirror_mode": {
    "name": "ipython",
    "version": 3
   },
   "file_extension": ".py",
   "mimetype": "text/x-python",
   "name": "python",
   "nbconvert_exporter": "python",
   "pygments_lexer": "ipython3",
   "version": "3.11.4"
  },
  "orig_nbformat": 4
 },
 "nbformat": 4,
 "nbformat_minor": 2
}
